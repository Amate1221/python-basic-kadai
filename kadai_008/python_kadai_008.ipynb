{
  "nbformat": 4,
  "nbformat_minor": 0,
  "metadata": {
    "colab": {
      "provenance": []
    },
    "kernelspec": {
      "name": "python3",
      "display_name": "Python 3"
    },
    "language_info": {
      "name": "python"
    }
  },
  "cells": [
    {
      "cell_type": "code",
      "source": [
        "import random #ランダムモジュールをインポート\n",
        "\n",
        "var = random.randint(0, 100) #変数varに0～100までのランダムな整数を代入\n",
        "\n",
        "if var % 3 == 0 and var % 5 == 0: #変数varが3と5の倍数の場合\n",
        "    print(\"FizzBuzz\")\n",
        "elif var % 3 == 0: #変数varが3の倍数の場合\n",
        "    print(\"Fizz\")\n",
        "elif var % 5 == 0: #変数varが5の倍数の場合\n",
        "    print(\"Buzz\")\n",
        "else: #それ以外の場合\n",
        "    print(var)\n",
        "\n",
        "print(var)"
      ],
      "metadata": {
        "colab": {
          "base_uri": "https://localhost:8080/"
        },
        "id": "YU3aIOQ7w29s",
        "outputId": "f77595da-58bb-4c9b-83a7-f393968638aa"
      },
      "execution_count": 13,
      "outputs": [
        {
          "output_type": "stream",
          "name": "stdout",
          "text": [
            "Fizz\n",
            "33\n"
          ]
        }
      ]
    }
  ]
}