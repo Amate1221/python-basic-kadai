{
  "nbformat": 4,
  "nbformat_minor": 0,
  "metadata": {
    "colab": {
      "provenance": []
    },
    "kernelspec": {
      "name": "python3",
      "display_name": "Python 3"
    },
    "language_info": {
      "name": "python"
    }
  },
  "cells": [
    {
      "cell_type": "code",
      "source": [
        "class Human:\n",
        "  def __init__(self, name, age):\n",
        "    self.name = name\n",
        "    self.age = age\n",
        "\n",
        "  def check_adult(self):\n",
        "    if self.age > 20:\n",
        "      print(f\"{self.name} is an adult\")\n",
        "    else:\n",
        "      print(f\"{self.name} is not an adult\")\n",
        "\n",
        "humans = [\n",
        "    Human(\"Ken\", 26),\n",
        "    Human(\"Ann\", 15),\n",
        "    Human(\"Bob\", 31),\n",
        "    Human(\"Tom\", 11),\n",
        "    Human(\"Jon\", 22)\n",
        "]\n",
        "\n",
        "for human in humans:\n",
        "  print(human.check_adult())"
      ],
      "metadata": {
        "colab": {
          "base_uri": "https://localhost:8080/"
        },
        "id": "6fwVjf4akzxw",
        "outputId": "9d824bdf-2647-466c-fda5-ae825506a7a7"
      },
      "execution_count": 7,
      "outputs": [
        {
          "output_type": "stream",
          "name": "stdout",
          "text": [
            "Ken is an adult\n",
            "None\n",
            "Ann is not an adult\n",
            "None\n",
            "Bob is an adult\n",
            "None\n",
            "Tom is not an adult\n",
            "None\n",
            "Jon is an adult\n",
            "None\n"
          ]
        }
      ]
    }
  ]
}