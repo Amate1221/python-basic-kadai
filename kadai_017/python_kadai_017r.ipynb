{
  "nbformat": 4,
  "nbformat_minor": 0,
  "metadata": {
    "colab": {
      "provenance": []
    },
    "kernelspec": {
      "name": "python3",
      "display_name": "Python 3"
    },
    "language_info": {
      "name": "python"
    }
  },
  "cells": [
    {
      "cell_type": "code",
      "source": [
        "class Human:\n",
        "  def __init__(self, name, age):\n",
        "    self.name = name\n",
        "    self.age = age\n",
        "\n",
        "  def check_adult(self):\n",
        "    if self.age >= 20:\n",
        "      print(f\"{self.name} is an adult\")\n",
        "    else:\n",
        "      print(f\"{self.name} is not an adult\")\n",
        "\n",
        "humans = [\n",
        "    Human(\"Ken\", 26),\n",
        "    Human(\"Ann\", 15),\n",
        "    Human(\"Bob\", 31),\n",
        "    Human(\"Tom\", 11),\n",
        "    Human(\"Jon\", 22)\n",
        "]\n",
        "\n",
        "for human in humans:\n",
        "    human.check_adult()"
      ],
      "metadata": {
        "colab": {
          "base_uri": "https://localhost:8080/"
        },
        "id": "6fwVjf4akzxw",
        "outputId": "9b6329be-38e3-469a-bd44-a1fe9b55f7fe"
      },
      "execution_count": 8,
      "outputs": [
        {
          "output_type": "stream",
          "name": "stdout",
          "text": [
            "Ken is an adult\n",
            "Ann is not an adult\n",
            "Bob is an adult\n",
            "Tom is not an adult\n",
            "Jon is an adult\n"
          ]
        }
      ]
    }
  ]
}